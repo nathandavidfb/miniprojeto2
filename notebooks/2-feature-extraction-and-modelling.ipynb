{
 "cells": [
  {
   "cell_type": "markdown",
   "metadata": {},
   "source": [
    "# Extração de Features e Construção do Modelo"
   ]
  },
  {
   "cell_type": "markdown",
   "metadata": {},
   "source": [
    "### 1. Introdução a Extração de Features\n",
    "- A extração de features é uma parte muito importante na análise e na identificação de relações entre diferentes elementos. Como já sabemos, os dados de áudio não podem ser compreendidos diretamente pelos modelos, então precisamos convertê-los para um formato inteligível, e é para isso que a extração de features é utilizada.\n"
   ]
  },
  {
   "cell_type": "markdown",
   "metadata": {},
   "source": [
    "#### Com a taxa de amostragem e os dados do sinal, podemos realizar diversas transformações para extrair características valiosas do áudio. No entanto, neste projeto, não vamos aprofundar no processo de seleção de features para identificar quais são mais relevantes para o nosso dataset. Em vez disso, vamos extrair cinco features principais para treinar nosso modelo:\n",
    "- **Zero Crossing Rate (ZCR):** Mede a taxa de mudanças de sinal no áudio, ou seja, quantas vezes ele cruza o eixo zero em um determinado intervalo de tempo. Essa feature é útil para distinguir sons percussivos e não percussivos.\n",
    "- **Chroma STFT:** Representa a energia espectral em 12 bins correspondentes às notas da escala musical ocidental. Essa característica é útil para identificar padrões harmônicos no áudio.\n",
    "- **MFCC (Mel-Frequency Cepstral Coefficients):** Converte a frequência do áudio para a escala mel, aproximando-se da percepção auditiva humana. É uma das features mais utilizadas em reconhecimento de fala e emoção.\n",
    "- **RMS (Root Mean Square):** Mede a energia do sinal ao calcular a média quadrática das amplitudes do áudio. Essa feature ajuda a representar a intensidade do som.\n",
    "- **Mel Spectrogram:** Representa a distribuição de energia do áudio em diferentes faixas de frequência na escala mel, capturando informações espectrais essenciais."
   ]
  },
  {
   "cell_type": "markdown",
   "metadata": {},
   "source": [
    "### 1.1. Importando as bibliotecas"
   ]
  },
  {
   "cell_type": "code",
   "execution_count": 1,
   "metadata": {},
   "outputs": [],
   "source": [
    "import pandas as pd\n",
    "import numpy as np\n",
    "\n",
    "import pickle\n",
    "import os\n",
    "import sys\n",
    "\n",
    "import librosa\n",
    "import librosa.display\n",
    "import seaborn as sns\n",
    "import matplotlib.pyplot as plt\n",
    "\n",
    "from sklearn.preprocessing import StandardScaler, OneHotEncoder\n",
    "from sklearn.metrics import confusion_matrix, classification_report\n",
    "from sklearn.model_selection import train_test_split\n",
    "\n",
    "from IPython.display import Audio\n",
    "\n",
    "import keras\n",
    "from keras.callbacks import ReduceLROnPlateau\n",
    "from keras.models import Sequential\n",
    "from keras.layers import Dense, Conv1D, MaxPooling1D, Flatten, Dropout, BatchNormalization\n",
    "from keras.utils import to_categorical\n",
    "from keras.callbacks import ModelCheckpoint\n",
    "\n",
    "import warnings\n",
    "if not sys.warnoptions:\n",
    "    warnings.simplefilter(\"ignore\")\n",
    "warnings.filterwarnings(\"ignore\", category=DeprecationWarning) "
   ]
  },
  {
   "cell_type": "markdown",
   "metadata": {},
   "source": [
    "### 1.2. Carregar o Dataframe da EDA "
   ]
  },
  {
   "cell_type": "code",
   "execution_count": 8,
   "metadata": {},
   "outputs": [],
   "source": [
    "data_path = \"../data/ravdess_preprocessed.csv\" \n",
    "df = pd.read_csv(data_path)\n",
    "path = df['Path'].iloc[1]\n",
    "data, sampling_rate = librosa.load(path)"
   ]
  },
  {
   "cell_type": "code",
   "execution_count": 9,
   "metadata": {},
   "outputs": [
    {
     "data": {
      "text/html": [
       "<div>\n",
       "<style scoped>\n",
       "    .dataframe tbody tr th:only-of-type {\n",
       "        vertical-align: middle;\n",
       "    }\n",
       "\n",
       "    .dataframe tbody tr th {\n",
       "        vertical-align: top;\n",
       "    }\n",
       "\n",
       "    .dataframe thead th {\n",
       "        text-align: right;\n",
       "    }\n",
       "</style>\n",
       "<table border=\"1\" class=\"dataframe\">\n",
       "  <thead>\n",
       "    <tr style=\"text-align: right;\">\n",
       "      <th></th>\n",
       "      <th>Emotions</th>\n",
       "      <th>Path</th>\n",
       "      <th>Processed_Path</th>\n",
       "    </tr>\n",
       "  </thead>\n",
       "  <tbody>\n",
       "    <tr>\n",
       "      <th>0</th>\n",
       "      <td>neutral</td>\n",
       "      <td>C:\\Users\\Betel Mussumagro\\dataSet\\Actor_01\\03-...</td>\n",
       "      <td>d:\\nathan\\nathan1pCDIA\\PROJETO\\trilha\\miniproj...</td>\n",
       "    </tr>\n",
       "    <tr>\n",
       "      <th>1</th>\n",
       "      <td>neutral</td>\n",
       "      <td>C:\\Users\\Betel Mussumagro\\dataSet\\Actor_01\\03-...</td>\n",
       "      <td>d:\\nathan\\nathan1pCDIA\\PROJETO\\trilha\\miniproj...</td>\n",
       "    </tr>\n",
       "    <tr>\n",
       "      <th>2</th>\n",
       "      <td>neutral</td>\n",
       "      <td>C:\\Users\\Betel Mussumagro\\dataSet\\Actor_01\\03-...</td>\n",
       "      <td>d:\\nathan\\nathan1pCDIA\\PROJETO\\trilha\\miniproj...</td>\n",
       "    </tr>\n",
       "    <tr>\n",
       "      <th>3</th>\n",
       "      <td>neutral</td>\n",
       "      <td>C:\\Users\\Betel Mussumagro\\dataSet\\Actor_01\\03-...</td>\n",
       "      <td>d:\\nathan\\nathan1pCDIA\\PROJETO\\trilha\\miniproj...</td>\n",
       "    </tr>\n",
       "    <tr>\n",
       "      <th>4</th>\n",
       "      <td>calm</td>\n",
       "      <td>C:\\Users\\Betel Mussumagro\\dataSet\\Actor_01\\03-...</td>\n",
       "      <td>d:\\nathan\\nathan1pCDIA\\PROJETO\\trilha\\miniproj...</td>\n",
       "    </tr>\n",
       "    <tr>\n",
       "      <th>...</th>\n",
       "      <td>...</td>\n",
       "      <td>...</td>\n",
       "      <td>...</td>\n",
       "    </tr>\n",
       "    <tr>\n",
       "      <th>1435</th>\n",
       "      <td>surprise</td>\n",
       "      <td>C:\\Users\\Betel Mussumagro\\dataSet\\Actor_24\\03-...</td>\n",
       "      <td>d:\\nathan\\nathan1pCDIA\\PROJETO\\trilha\\miniproj...</td>\n",
       "    </tr>\n",
       "    <tr>\n",
       "      <th>1436</th>\n",
       "      <td>surprise</td>\n",
       "      <td>C:\\Users\\Betel Mussumagro\\dataSet\\Actor_24\\03-...</td>\n",
       "      <td>d:\\nathan\\nathan1pCDIA\\PROJETO\\trilha\\miniproj...</td>\n",
       "    </tr>\n",
       "    <tr>\n",
       "      <th>1437</th>\n",
       "      <td>surprise</td>\n",
       "      <td>C:\\Users\\Betel Mussumagro\\dataSet\\Actor_24\\03-...</td>\n",
       "      <td>d:\\nathan\\nathan1pCDIA\\PROJETO\\trilha\\miniproj...</td>\n",
       "    </tr>\n",
       "    <tr>\n",
       "      <th>1438</th>\n",
       "      <td>surprise</td>\n",
       "      <td>C:\\Users\\Betel Mussumagro\\dataSet\\Actor_24\\03-...</td>\n",
       "      <td>d:\\nathan\\nathan1pCDIA\\PROJETO\\trilha\\miniproj...</td>\n",
       "    </tr>\n",
       "    <tr>\n",
       "      <th>1439</th>\n",
       "      <td>surprise</td>\n",
       "      <td>C:\\Users\\Betel Mussumagro\\dataSet\\Actor_24\\03-...</td>\n",
       "      <td>d:\\nathan\\nathan1pCDIA\\PROJETO\\trilha\\miniproj...</td>\n",
       "    </tr>\n",
       "  </tbody>\n",
       "</table>\n",
       "<p>1440 rows × 3 columns</p>\n",
       "</div>"
      ],
      "text/plain": [
       "      Emotions                                               Path  \\\n",
       "0      neutral  C:\\Users\\Betel Mussumagro\\dataSet\\Actor_01\\03-...   \n",
       "1      neutral  C:\\Users\\Betel Mussumagro\\dataSet\\Actor_01\\03-...   \n",
       "2      neutral  C:\\Users\\Betel Mussumagro\\dataSet\\Actor_01\\03-...   \n",
       "3      neutral  C:\\Users\\Betel Mussumagro\\dataSet\\Actor_01\\03-...   \n",
       "4         calm  C:\\Users\\Betel Mussumagro\\dataSet\\Actor_01\\03-...   \n",
       "...        ...                                                ...   \n",
       "1435  surprise  C:\\Users\\Betel Mussumagro\\dataSet\\Actor_24\\03-...   \n",
       "1436  surprise  C:\\Users\\Betel Mussumagro\\dataSet\\Actor_24\\03-...   \n",
       "1437  surprise  C:\\Users\\Betel Mussumagro\\dataSet\\Actor_24\\03-...   \n",
       "1438  surprise  C:\\Users\\Betel Mussumagro\\dataSet\\Actor_24\\03-...   \n",
       "1439  surprise  C:\\Users\\Betel Mussumagro\\dataSet\\Actor_24\\03-...   \n",
       "\n",
       "                                         Processed_Path  \n",
       "0     d:\\nathan\\nathan1pCDIA\\PROJETO\\trilha\\miniproj...  \n",
       "1     d:\\nathan\\nathan1pCDIA\\PROJETO\\trilha\\miniproj...  \n",
       "2     d:\\nathan\\nathan1pCDIA\\PROJETO\\trilha\\miniproj...  \n",
       "3     d:\\nathan\\nathan1pCDIA\\PROJETO\\trilha\\miniproj...  \n",
       "4     d:\\nathan\\nathan1pCDIA\\PROJETO\\trilha\\miniproj...  \n",
       "...                                                 ...  \n",
       "1435  d:\\nathan\\nathan1pCDIA\\PROJETO\\trilha\\miniproj...  \n",
       "1436  d:\\nathan\\nathan1pCDIA\\PROJETO\\trilha\\miniproj...  \n",
       "1437  d:\\nathan\\nathan1pCDIA\\PROJETO\\trilha\\miniproj...  \n",
       "1438  d:\\nathan\\nathan1pCDIA\\PROJETO\\trilha\\miniproj...  \n",
       "1439  d:\\nathan\\nathan1pCDIA\\PROJETO\\trilha\\miniproj...  \n",
       "\n",
       "[1440 rows x 3 columns]"
      ]
     },
     "execution_count": 9,
     "metadata": {},
     "output_type": "execute_result"
    }
   ],
   "source": [
    "df"
   ]
  },
  {
   "cell_type": "markdown",
   "metadata": {},
   "source": [
    "### 2. Criando uma função para extração das features"
   ]
  },
  {
   "cell_type": "markdown",
   "metadata": {},
   "source": [
    "##### Fizemos essa parte no notebook passado, então você pode copiar e colar o código das funções aqui, pois precisaremos delas:"
   ]
  },
  {
   "cell_type": "code",
   "execution_count": 12,
   "metadata": {},
   "outputs": [],
   "source": [
    "def noise(data, noise_factor=0.005):\n",
    "    # Gere um valor de amplitude de ruído (baseado no valor máximo no dataset) e adicione ruído normal (gaussiano) ao dataset original\n",
    "    noise = np.random.randn(len(data))  \n",
    "    augmented_data = data + noise_factor * noise  \n",
    "    return augmented_data.astype(type(data[0]))\n",
    "\n",
    "def stretch(data, rate=0.8):\n",
    "    # Utilize a função librosa.effects.time_stretch para esticar ou comprimir o áudio pelo fator de taxa especificado.\n",
    "    stft = librosa.stft(data)\n",
    "    stretched_stft = librosa.phase_vocoder(stft, rate=rate)\n",
    "    stretched_audio = librosa.istft(stretched_stft)\n",
    "    return stretched_audio\n",
    "\n",
    "def shift(data):\n",
    "    # Determine um valor de deslocamento aleatório dentro de um intervalo e use np.roll para deslocar o dataset.\n",
    "    shift_range = int(np.random.uniform(low=-5_000, high=5_000))  # deslocamento aleatório\n",
    "    return np.roll(data, shift_range)\n",
    "\n",
    "def pitch(data, sampling_rate, pitch_factor=0.7):\n",
    "    # Aplique a função librosa.effects.pitch_shift para mudar o pitch do áudio pelo fator especifícado\n",
    "     return librosa.effects.pitch_shift(data, sr=sampling_rate, n_steps=pitch_factor)\n",
    "\n",
    "path = np.array(df.Path)[1]\n",
    "data, sampling_rate = librosa.load(path)"
   ]
  },
  {
   "cell_type": "markdown",
   "metadata": {},
   "source": [
    "##### Aqui você deve extrair essas features de fato... mais tarde você precisará delas :)"
   ]
  },
  {
   "cell_type": "code",
   "execution_count": 13,
   "metadata": {},
   "outputs": [],
   "source": [
    "def extract_features(data, sample_rate): \n",
    "    result = np.array([])\n",
    "\n",
    "    # Zero Crossing Rate\n",
    "    zcr = np.mean(librosa.feature.zero_crossing_rate(y=data).T, axis=0)\n",
    "    result = np.hstack((result, zcr))\n",
    "\n",
    "    # Chroma_stft\n",
    "    stft = np.abs(librosa.stft(data))\n",
    "    chroma_stft = np.mean(librosa.feature.chroma_stft(S=stft, sr=sample_rate).T, axis=0)\n",
    "    result = np.hstack((result, chroma_stft))\n",
    "\n",
    "    # MFCC\n",
    "    mfcc = np.mean(librosa.feature.mfcc(y=data, sr=sample_rate, n_mfcc=13).T, axis=0)\n",
    "    result = np.hstack((result, mfcc))\n",
    "\n",
    "    # Root Mean Square Value\n",
    "    rms = np.mean(librosa.feature.rms(y=data).T, axis=0)\n",
    "    result = np.hstack((result, rms))\n",
    "\n",
    "    # MelSpectrogram\n",
    "    mel = np.mean(librosa.feature.melspectrogram(y=data, sr=sample_rate).T, axis=0)\n",
    "    result = np.hstack((result, mel))\n",
    "    \n",
    "    return result\n",
    "\n",
    "def get_features(path):\n",
    "    # Carregar áudio\n",
    "    data, sample_rate = librosa.load(path, duration=2.5, offset=0.6)\n",
    "\n",
    "    # Sem aumento de dados\n",
    "    res1 = extract_features(data, sample_rate)  \n",
    "    result = np.array(res1)\n",
    "\n",
    "    # Com ruído\n",
    "    noise_data = noise(data)\n",
    "    res2 = extract_features(noise_data, sample_rate)  \n",
    "    result = np.vstack((result, res2))\n",
    "\n",
    "    # Com alongamento e mudança de pitch\n",
    "    new_data = stretch(data)\n",
    "    data_stretch_pitch = pitch(new_data, sample_rate)\n",
    "    res3 = extract_features(data_stretch_pitch, sample_rate) \n",
    "    result = np.vstack((result, res3))\n",
    "    \n",
    "    return result"
   ]
  },
  {
   "cell_type": "markdown",
   "metadata": {},
   "source": [
    "##### Rode as células abaixo"
   ]
  },
  {
   "cell_type": "code",
   "execution_count": 15,
   "metadata": {},
   "outputs": [],
   "source": [
    "X, Y = [], []\n",
    "for path, emotion in zip(df['Path'], df['Emotions']):\n",
    "    feature = get_features(path)\n",
    "    # Appending emotion 3 times as we have made 3 augmentation techniques on each audio file.\n",
    "    for ele in feature:\n",
    "        X.append(ele)\n",
    "        Y.append(emotion)"
   ]
  },
  {
   "cell_type": "code",
   "execution_count": 16,
   "metadata": {},
   "outputs": [
    {
     "data": {
      "text/plain": [
       "(4320, 4320, (1440,))"
      ]
     },
     "execution_count": 16,
     "metadata": {},
     "output_type": "execute_result"
    }
   ],
   "source": [
    "len(X), len(Y), df.Path.shape"
   ]
  },
  {
   "cell_type": "markdown",
   "metadata": {},
   "source": [
    "##### Agora você deverá salvar o csv de features (features.csv)"
   ]
  },
  {
   "cell_type": "code",
   "execution_count": 17,
   "metadata": {},
   "outputs": [
    {
     "name": "stdout",
     "output_type": "stream",
     "text": [
      "O arquivo foi salvo em: d:\\nathan\\nathan1pCDIA\\PROJETO\\trilha\\miniprojeto2\\data\\features.csv\n",
      "O arquivo foi salvo em: d:\\nathan\\nathan1pCDIA\\PROJETO\\trilha\\miniprojeto2\\data\\features.csv\n"
     ]
    }
   ],
   "source": [
    "# Definir o caminho correto para a pasta 'data' na raiz do projeto\n",
    "data_dir = os.path.join(os.path.dirname(os.getcwd()), \"data\")\n",
    "os.makedirs(data_dir, exist_ok=True)\n",
    "\n",
    "# Caminho correto para salvar o CSV na pasta 'data' da raiz do projeto\n",
    "csv_path = os.path.join(data_dir, \"features.csv\")\n",
    "\n",
    "# Crie um DataFrame do pandas chamado Features usando a lista X.\n",
    "# Adicione uma coluna 'labels' ao DataFrame usando a lista Y.\n",
    "# Salve o DataFrame como um arquivo CSV no caminho definido, sem incluir o índice, definindo _index_=False\n",
    "Features = pd.DataFrame(X)\n",
    "Features['labels'] = Y\n",
    "\n",
    "Features.to_csv(csv_path, index=False)\n",
    "\n",
    "print(f\"O arquivo foi salvo em: {csv_path}\")\n",
    "print(f\"O arquivo foi salvo em: {csv_path}\")"
   ]
  },
  {
   "cell_type": "markdown",
   "metadata": {},
   "source": [
    "### 2.1. Data Preparation (Preparação dos Dados)"
   ]
  },
  {
   "cell_type": "code",
   "execution_count": 18,
   "metadata": {},
   "outputs": [],
   "source": [
    "X = Features.iloc[: ,:-1].values\n",
    "Y = Features['labels'].values"
   ]
  },
  {
   "cell_type": "code",
   "execution_count": 20,
   "metadata": {},
   "outputs": [],
   "source": [
    "# Use OneHotEncoder para transformar o Y em uma representação binária categórica, necessária para problemas de classificação multiclasse\n",
    "\n",
    "Y = np.array(Y).reshape(-1, 1)\n",
    "\n",
    "# Crie e ajuste o codificador\n",
    "encoder = OneHotEncoder(sparse_output=False)\n",
    "Y_encoded = encoder.fit_transform(Y)"
   ]
  },
  {
   "cell_type": "code",
   "execution_count": 22,
   "metadata": {},
   "outputs": [],
   "source": [
    "# Use train_test_split do scikit-learn para dividir X e Y em conjuntos de treino e teste\n",
    "X_train, X_test, Y_train, Y_test = train_test_split(X, Y_encoded, test_size=0.2, random_state=42, shuffle=True)"
   ]
  },
  {
   "cell_type": "code",
   "execution_count": 23,
   "metadata": {},
   "outputs": [],
   "source": [
    "# Utilize StandardScaler do sklearn para normalizar as características de X\n",
    "scaler = StandardScaler()\n",
    "X_train = scaler.fit_transform(X_train)\n",
    "X_test = scaler.transform(X_test)"
   ]
  },
  {
   "cell_type": "code",
   "execution_count": 25,
   "metadata": {},
   "outputs": [
    {
     "data": {
      "text/plain": [
       "((3456, 155, 1), (3456, 8), (864, 155, 1), (864, 8))"
      ]
     },
     "execution_count": 25,
     "metadata": {},
     "output_type": "execute_result"
    }
   ],
   "source": [
    "# Rode essa célula para deixar as dimensões certinhas com o modelo que iremos criar.\n",
    "x_train = np.expand_dims(X_train, axis=2)\n",
    "x_test = np.expand_dims(X_test, axis=2)\n",
    "x_train.shape, Y_train.shape, x_test.shape, Y_test.shape"
   ]
  },
  {
   "cell_type": "markdown",
   "metadata": {},
   "source": [
    "### 3. Model Training (Modelling)"
   ]
  },
  {
   "cell_type": "markdown",
   "metadata": {},
   "source": [
    "#### O modelo que vamos usar é uma rede neural convolucional (CNN) projetada para processar os dados extraídos dos arquivos de áudio. Essa estrutura é ideal para capturar padrões espectrais, como variações de tom e intensidade. A CNN é composta por:\n",
    "- Camadas Convolucionais (Conv1D): Extraem características do espectro do áudio.\n",
    "- Camadas de Pooling (MaxPooling1D): Reduzem a dimensionalidade e capturam as informações mais relevantes.\n",
    "- Dropout: Ajuda a evitar overfitting.\n",
    "- Camada Flatten: Transforma os mapas de features em um vetor de entrada para a camada totalmente conectada.\n",
    "- Camadas Densas (Dense): Realizam a classificação final usando a função de ativação softmax."
   ]
  },
  {
   "cell_type": "code",
   "execution_count": 26,
   "metadata": {},
   "outputs": [
    {
     "data": {
      "text/html": [
       "<pre style=\"white-space:pre;overflow-x:auto;line-height:normal;font-family:Menlo,'DejaVu Sans Mono',consolas,'Courier New',monospace\"><span style=\"font-weight: bold\">Model: \"sequential\"</span>\n",
       "</pre>\n"
      ],
      "text/plain": [
       "\u001b[1mModel: \"sequential\"\u001b[0m\n"
      ]
     },
     "metadata": {},
     "output_type": "display_data"
    },
    {
     "data": {
      "text/html": [
       "<pre style=\"white-space:pre;overflow-x:auto;line-height:normal;font-family:Menlo,'DejaVu Sans Mono',consolas,'Courier New',monospace\">┏━━━━━━━━━━━━━━━━━━━━━━━━━━━━━━━━━┳━━━━━━━━━━━━━━━━━━━━━━━━┳━━━━━━━━━━━━━━━┓\n",
       "┃<span style=\"font-weight: bold\"> Layer (type)                    </span>┃<span style=\"font-weight: bold\"> Output Shape           </span>┃<span style=\"font-weight: bold\">       Param # </span>┃\n",
       "┡━━━━━━━━━━━━━━━━━━━━━━━━━━━━━━━━━╇━━━━━━━━━━━━━━━━━━━━━━━━╇━━━━━━━━━━━━━━━┩\n",
       "│ conv1d (<span style=\"color: #0087ff; text-decoration-color: #0087ff\">Conv1D</span>)                 │ (<span style=\"color: #00d7ff; text-decoration-color: #00d7ff\">None</span>, <span style=\"color: #00af00; text-decoration-color: #00af00\">155</span>, <span style=\"color: #00af00; text-decoration-color: #00af00\">256</span>)       │         <span style=\"color: #00af00; text-decoration-color: #00af00\">1,536</span> │\n",
       "├─────────────────────────────────┼────────────────────────┼───────────────┤\n",
       "│ max_pooling1d (<span style=\"color: #0087ff; text-decoration-color: #0087ff\">MaxPooling1D</span>)    │ (<span style=\"color: #00d7ff; text-decoration-color: #00d7ff\">None</span>, <span style=\"color: #00af00; text-decoration-color: #00af00\">78</span>, <span style=\"color: #00af00; text-decoration-color: #00af00\">256</span>)        │             <span style=\"color: #00af00; text-decoration-color: #00af00\">0</span> │\n",
       "├─────────────────────────────────┼────────────────────────┼───────────────┤\n",
       "│ conv1d_1 (<span style=\"color: #0087ff; text-decoration-color: #0087ff\">Conv1D</span>)               │ (<span style=\"color: #00d7ff; text-decoration-color: #00d7ff\">None</span>, <span style=\"color: #00af00; text-decoration-color: #00af00\">78</span>, <span style=\"color: #00af00; text-decoration-color: #00af00\">256</span>)        │       <span style=\"color: #00af00; text-decoration-color: #00af00\">327,936</span> │\n",
       "├─────────────────────────────────┼────────────────────────┼───────────────┤\n",
       "│ max_pooling1d_1 (<span style=\"color: #0087ff; text-decoration-color: #0087ff\">MaxPooling1D</span>)  │ (<span style=\"color: #00d7ff; text-decoration-color: #00d7ff\">None</span>, <span style=\"color: #00af00; text-decoration-color: #00af00\">39</span>, <span style=\"color: #00af00; text-decoration-color: #00af00\">256</span>)        │             <span style=\"color: #00af00; text-decoration-color: #00af00\">0</span> │\n",
       "├─────────────────────────────────┼────────────────────────┼───────────────┤\n",
       "│ conv1d_2 (<span style=\"color: #0087ff; text-decoration-color: #0087ff\">Conv1D</span>)               │ (<span style=\"color: #00d7ff; text-decoration-color: #00d7ff\">None</span>, <span style=\"color: #00af00; text-decoration-color: #00af00\">39</span>, <span style=\"color: #00af00; text-decoration-color: #00af00\">128</span>)        │       <span style=\"color: #00af00; text-decoration-color: #00af00\">163,968</span> │\n",
       "├─────────────────────────────────┼────────────────────────┼───────────────┤\n",
       "│ max_pooling1d_2 (<span style=\"color: #0087ff; text-decoration-color: #0087ff\">MaxPooling1D</span>)  │ (<span style=\"color: #00d7ff; text-decoration-color: #00d7ff\">None</span>, <span style=\"color: #00af00; text-decoration-color: #00af00\">20</span>, <span style=\"color: #00af00; text-decoration-color: #00af00\">128</span>)        │             <span style=\"color: #00af00; text-decoration-color: #00af00\">0</span> │\n",
       "├─────────────────────────────────┼────────────────────────┼───────────────┤\n",
       "│ dropout (<span style=\"color: #0087ff; text-decoration-color: #0087ff\">Dropout</span>)               │ (<span style=\"color: #00d7ff; text-decoration-color: #00d7ff\">None</span>, <span style=\"color: #00af00; text-decoration-color: #00af00\">20</span>, <span style=\"color: #00af00; text-decoration-color: #00af00\">128</span>)        │             <span style=\"color: #00af00; text-decoration-color: #00af00\">0</span> │\n",
       "├─────────────────────────────────┼────────────────────────┼───────────────┤\n",
       "│ conv1d_3 (<span style=\"color: #0087ff; text-decoration-color: #0087ff\">Conv1D</span>)               │ (<span style=\"color: #00d7ff; text-decoration-color: #00d7ff\">None</span>, <span style=\"color: #00af00; text-decoration-color: #00af00\">20</span>, <span style=\"color: #00af00; text-decoration-color: #00af00\">64</span>)         │        <span style=\"color: #00af00; text-decoration-color: #00af00\">41,024</span> │\n",
       "├─────────────────────────────────┼────────────────────────┼───────────────┤\n",
       "│ max_pooling1d_3 (<span style=\"color: #0087ff; text-decoration-color: #0087ff\">MaxPooling1D</span>)  │ (<span style=\"color: #00d7ff; text-decoration-color: #00d7ff\">None</span>, <span style=\"color: #00af00; text-decoration-color: #00af00\">10</span>, <span style=\"color: #00af00; text-decoration-color: #00af00\">64</span>)         │             <span style=\"color: #00af00; text-decoration-color: #00af00\">0</span> │\n",
       "├─────────────────────────────────┼────────────────────────┼───────────────┤\n",
       "│ flatten (<span style=\"color: #0087ff; text-decoration-color: #0087ff\">Flatten</span>)               │ (<span style=\"color: #00d7ff; text-decoration-color: #00d7ff\">None</span>, <span style=\"color: #00af00; text-decoration-color: #00af00\">640</span>)            │             <span style=\"color: #00af00; text-decoration-color: #00af00\">0</span> │\n",
       "├─────────────────────────────────┼────────────────────────┼───────────────┤\n",
       "│ dense (<span style=\"color: #0087ff; text-decoration-color: #0087ff\">Dense</span>)                   │ (<span style=\"color: #00d7ff; text-decoration-color: #00d7ff\">None</span>, <span style=\"color: #00af00; text-decoration-color: #00af00\">32</span>)             │        <span style=\"color: #00af00; text-decoration-color: #00af00\">20,512</span> │\n",
       "├─────────────────────────────────┼────────────────────────┼───────────────┤\n",
       "│ dropout_1 (<span style=\"color: #0087ff; text-decoration-color: #0087ff\">Dropout</span>)             │ (<span style=\"color: #00d7ff; text-decoration-color: #00d7ff\">None</span>, <span style=\"color: #00af00; text-decoration-color: #00af00\">32</span>)             │             <span style=\"color: #00af00; text-decoration-color: #00af00\">0</span> │\n",
       "├─────────────────────────────────┼────────────────────────┼───────────────┤\n",
       "│ dense_1 (<span style=\"color: #0087ff; text-decoration-color: #0087ff\">Dense</span>)                 │ (<span style=\"color: #00d7ff; text-decoration-color: #00d7ff\">None</span>, <span style=\"color: #00af00; text-decoration-color: #00af00\">8</span>)              │           <span style=\"color: #00af00; text-decoration-color: #00af00\">264</span> │\n",
       "└─────────────────────────────────┴────────────────────────┴───────────────┘\n",
       "</pre>\n"
      ],
      "text/plain": [
       "┏━━━━━━━━━━━━━━━━━━━━━━━━━━━━━━━━━┳━━━━━━━━━━━━━━━━━━━━━━━━┳━━━━━━━━━━━━━━━┓\n",
       "┃\u001b[1m \u001b[0m\u001b[1mLayer (type)                   \u001b[0m\u001b[1m \u001b[0m┃\u001b[1m \u001b[0m\u001b[1mOutput Shape          \u001b[0m\u001b[1m \u001b[0m┃\u001b[1m \u001b[0m\u001b[1m      Param #\u001b[0m\u001b[1m \u001b[0m┃\n",
       "┡━━━━━━━━━━━━━━━━━━━━━━━━━━━━━━━━━╇━━━━━━━━━━━━━━━━━━━━━━━━╇━━━━━━━━━━━━━━━┩\n",
       "│ conv1d (\u001b[38;5;33mConv1D\u001b[0m)                 │ (\u001b[38;5;45mNone\u001b[0m, \u001b[38;5;34m155\u001b[0m, \u001b[38;5;34m256\u001b[0m)       │         \u001b[38;5;34m1,536\u001b[0m │\n",
       "├─────────────────────────────────┼────────────────────────┼───────────────┤\n",
       "│ max_pooling1d (\u001b[38;5;33mMaxPooling1D\u001b[0m)    │ (\u001b[38;5;45mNone\u001b[0m, \u001b[38;5;34m78\u001b[0m, \u001b[38;5;34m256\u001b[0m)        │             \u001b[38;5;34m0\u001b[0m │\n",
       "├─────────────────────────────────┼────────────────────────┼───────────────┤\n",
       "│ conv1d_1 (\u001b[38;5;33mConv1D\u001b[0m)               │ (\u001b[38;5;45mNone\u001b[0m, \u001b[38;5;34m78\u001b[0m, \u001b[38;5;34m256\u001b[0m)        │       \u001b[38;5;34m327,936\u001b[0m │\n",
       "├─────────────────────────────────┼────────────────────────┼───────────────┤\n",
       "│ max_pooling1d_1 (\u001b[38;5;33mMaxPooling1D\u001b[0m)  │ (\u001b[38;5;45mNone\u001b[0m, \u001b[38;5;34m39\u001b[0m, \u001b[38;5;34m256\u001b[0m)        │             \u001b[38;5;34m0\u001b[0m │\n",
       "├─────────────────────────────────┼────────────────────────┼───────────────┤\n",
       "│ conv1d_2 (\u001b[38;5;33mConv1D\u001b[0m)               │ (\u001b[38;5;45mNone\u001b[0m, \u001b[38;5;34m39\u001b[0m, \u001b[38;5;34m128\u001b[0m)        │       \u001b[38;5;34m163,968\u001b[0m │\n",
       "├─────────────────────────────────┼────────────────────────┼───────────────┤\n",
       "│ max_pooling1d_2 (\u001b[38;5;33mMaxPooling1D\u001b[0m)  │ (\u001b[38;5;45mNone\u001b[0m, \u001b[38;5;34m20\u001b[0m, \u001b[38;5;34m128\u001b[0m)        │             \u001b[38;5;34m0\u001b[0m │\n",
       "├─────────────────────────────────┼────────────────────────┼───────────────┤\n",
       "│ dropout (\u001b[38;5;33mDropout\u001b[0m)               │ (\u001b[38;5;45mNone\u001b[0m, \u001b[38;5;34m20\u001b[0m, \u001b[38;5;34m128\u001b[0m)        │             \u001b[38;5;34m0\u001b[0m │\n",
       "├─────────────────────────────────┼────────────────────────┼───────────────┤\n",
       "│ conv1d_3 (\u001b[38;5;33mConv1D\u001b[0m)               │ (\u001b[38;5;45mNone\u001b[0m, \u001b[38;5;34m20\u001b[0m, \u001b[38;5;34m64\u001b[0m)         │        \u001b[38;5;34m41,024\u001b[0m │\n",
       "├─────────────────────────────────┼────────────────────────┼───────────────┤\n",
       "│ max_pooling1d_3 (\u001b[38;5;33mMaxPooling1D\u001b[0m)  │ (\u001b[38;5;45mNone\u001b[0m, \u001b[38;5;34m10\u001b[0m, \u001b[38;5;34m64\u001b[0m)         │             \u001b[38;5;34m0\u001b[0m │\n",
       "├─────────────────────────────────┼────────────────────────┼───────────────┤\n",
       "│ flatten (\u001b[38;5;33mFlatten\u001b[0m)               │ (\u001b[38;5;45mNone\u001b[0m, \u001b[38;5;34m640\u001b[0m)            │             \u001b[38;5;34m0\u001b[0m │\n",
       "├─────────────────────────────────┼────────────────────────┼───────────────┤\n",
       "│ dense (\u001b[38;5;33mDense\u001b[0m)                   │ (\u001b[38;5;45mNone\u001b[0m, \u001b[38;5;34m32\u001b[0m)             │        \u001b[38;5;34m20,512\u001b[0m │\n",
       "├─────────────────────────────────┼────────────────────────┼───────────────┤\n",
       "│ dropout_1 (\u001b[38;5;33mDropout\u001b[0m)             │ (\u001b[38;5;45mNone\u001b[0m, \u001b[38;5;34m32\u001b[0m)             │             \u001b[38;5;34m0\u001b[0m │\n",
       "├─────────────────────────────────┼────────────────────────┼───────────────┤\n",
       "│ dense_1 (\u001b[38;5;33mDense\u001b[0m)                 │ (\u001b[38;5;45mNone\u001b[0m, \u001b[38;5;34m8\u001b[0m)              │           \u001b[38;5;34m264\u001b[0m │\n",
       "└─────────────────────────────────┴────────────────────────┴───────────────┘\n"
      ]
     },
     "metadata": {},
     "output_type": "display_data"
    },
    {
     "data": {
      "text/html": [
       "<pre style=\"white-space:pre;overflow-x:auto;line-height:normal;font-family:Menlo,'DejaVu Sans Mono',consolas,'Courier New',monospace\"><span style=\"font-weight: bold\"> Total params: </span><span style=\"color: #00af00; text-decoration-color: #00af00\">555,240</span> (2.12 MB)\n",
       "</pre>\n"
      ],
      "text/plain": [
       "\u001b[1m Total params: \u001b[0m\u001b[38;5;34m555,240\u001b[0m (2.12 MB)\n"
      ]
     },
     "metadata": {},
     "output_type": "display_data"
    },
    {
     "data": {
      "text/html": [
       "<pre style=\"white-space:pre;overflow-x:auto;line-height:normal;font-family:Menlo,'DejaVu Sans Mono',consolas,'Courier New',monospace\"><span style=\"font-weight: bold\"> Trainable params: </span><span style=\"color: #00af00; text-decoration-color: #00af00\">555,240</span> (2.12 MB)\n",
       "</pre>\n"
      ],
      "text/plain": [
       "\u001b[1m Trainable params: \u001b[0m\u001b[38;5;34m555,240\u001b[0m (2.12 MB)\n"
      ]
     },
     "metadata": {},
     "output_type": "display_data"
    },
    {
     "data": {
      "text/html": [
       "<pre style=\"white-space:pre;overflow-x:auto;line-height:normal;font-family:Menlo,'DejaVu Sans Mono',consolas,'Courier New',monospace\"><span style=\"font-weight: bold\"> Non-trainable params: </span><span style=\"color: #00af00; text-decoration-color: #00af00\">0</span> (0.00 B)\n",
       "</pre>\n"
      ],
      "text/plain": [
       "\u001b[1m Non-trainable params: \u001b[0m\u001b[38;5;34m0\u001b[0m (0.00 B)\n"
      ]
     },
     "metadata": {},
     "output_type": "display_data"
    }
   ],
   "source": [
    "# Dica: você pode olhar a documentação e ir seguindo o passo a passo arquitetônico para criar o modelo.\n",
    "\n",
    "# Passo 1: Use Sequential() para criar o modelo como um contêiner linear.\n",
    "# Passo 2: Adicione uma camada Conv1D com 256 filtros, kernel_size=5, strides=1, padding='same' e função de ativação 'relu'.\n",
    "# Passo 3: Siga com uma camada MaxPooling1D com pool_size=5, strides=2, padding='same'.\n",
    "# Passo 4: Adicione mais uma camada Conv1D com 256 filtros, kernel_size=5, strides=1, padding='same' e função de ativação 'relu'.\n",
    "# Passo 5: Adicione mais uma camada MaxPooling1D com pool_size=5, strides=2, padding='same'.\n",
    "# Passo 6: Adicione mais uma camada Conv1D com 128 filtros, kernel_size=5, strides=1, padding='same' e função de ativação 'relu'.\n",
    "# Passo 7: Adicione mais uma camada MaxPooling1D com pool_size=5, strides=2, padding='same'.\n",
    "# Passo 8: Adicione uma camada Dropout com 0.2 de taxa de dropout.\n",
    "# Passo 9: Adicione mais uma camada Conv1D com 64 filtros, kernel_size=5, strides=1, padding='same' e função de ativação 'relu'.\n",
    "# Passo 10: Adicione mais uma camada MaxPooling1D com pool_size=5, strides=2, padding='same'.\n",
    "# Passo 11: Adicione uma camada Flatten.\n",
    "# Passo 12: Adicione uma camada Dense com 32 unidades e função de ativação 'relu'.\n",
    "# Passo 13: Adicione uma camada Dropout com 0.3 de taxa de dropout.\n",
    "# Passo 14: Adicione uma camada Dense com 8 unidades e função de ativação 'softmax'.\n",
    "# Passo 15: Compile o modelo com otimizador 'adam', loss 'categorical_crossentropy' e métrica 'accuracy'.\n",
    "# Passo 16: Use model.summary() para visualizar o modelo.\n",
    "model = Sequential()\n",
    "model.add(Conv1D(filters=256, kernel_size=5, strides=1, padding='same', activation='relu', input_shape=(X_train.shape[1], 1)))\n",
    "model.add(MaxPooling1D(pool_size=5, strides=2, padding='same'))\n",
    "model.add(Conv1D(filters=256, kernel_size=5, strides=1, padding='same', activation='relu'))\n",
    "model.add(MaxPooling1D(pool_size=5, strides=2, padding='same'))\n",
    "model.add(Conv1D(filters=128, kernel_size=5, strides=1, padding='same', activation='relu'))\n",
    "model.add(MaxPooling1D(pool_size=5, strides=2, padding='same'))\n",
    "model.add(Dropout(0.2))\n",
    "model.add(Conv1D(filters=64, kernel_size=5, strides=1, padding='same', activation='relu'))\n",
    "model.add(MaxPooling1D(pool_size=5, strides=2, padding='same'))\n",
    "model.add(Flatten())\n",
    "model.add(Dense(32, activation='relu'))\n",
    "model.add(Dropout(0.3))\n",
    "model.add(Dense(8, activation='softmax'))\n",
    "model.compile(optimizer='adam', loss='categorical_crossentropy', metrics=['accuracy'])\n",
    "model.summary()\n"
   ]
  },
  {
   "cell_type": "markdown",
   "metadata": {},
   "source": [
    "### 3.1. Agora vamos de fato treinar o modelo, siga esses passos: \n",
    "##### 1. Use o callback para Ajustar a Taxa de Aprendizado \n",
    "##### ReduceLROnPlateau: Diminui a taxa de aprendizado quando uma métrica está estagnada.\n",
    "   Parâmetros:\n",
    "   - monitor='loss': Monitora a perda durante o treinamento.\n",
    "   - factor=0.4: Reduz a taxa de aprendizado por este fator.\n",
    "   - patience=2: Número de épocas sem melhora antes da redução.\n",
    "   - min_lr=0.0000001: Limite mínimo para a taxa de aprendizado.\n",
    "             \n",
    "##### 2. Treine o Modelo \n",
    "##### Utilize model.fit para iniciar o treino da rede neural.\n",
    "   Parâmetros:\n",
    "   - x_train, y_train: Conjunto de dados de treino.\n",
    "   - batch_size=64: Número de amostras por atualização de gradiente.\n",
    "   - epochs=50: Número de vezes que o modelo treina em todo o conjunto de dados.\n",
    "   - validation_data=(x_test, y_test): Conjunto de dados para validação durante o treino.\n",
    "   - callbacks=[rlrp]: Lista de callbacks a serem aplicados durante o treino.\n",
    "     "
   ]
  },
  {
   "cell_type": "code",
   "execution_count": 27,
   "metadata": {},
   "outputs": [
    {
     "name": "stdout",
     "output_type": "stream",
     "text": [
      "Epoch 1/50\n",
      "\u001b[1m54/54\u001b[0m \u001b[32m━━━━━━━━━━━━━━━━━━━━\u001b[0m\u001b[37m\u001b[0m \u001b[1m7s\u001b[0m 86ms/step - accuracy: 0.1951 - loss: 2.0119 - val_accuracy: 0.2616 - val_loss: 1.9020 - learning_rate: 0.0010\n",
      "Epoch 2/50\n",
      "\u001b[1m54/54\u001b[0m \u001b[32m━━━━━━━━━━━━━━━━━━━━\u001b[0m\u001b[37m\u001b[0m \u001b[1m4s\u001b[0m 78ms/step - accuracy: 0.2322 - loss: 1.9332 - val_accuracy: 0.2708 - val_loss: 1.8835 - learning_rate: 0.0010\n",
      "Epoch 3/50\n",
      "\u001b[1m54/54\u001b[0m \u001b[32m━━━━━━━━━━━━━━━━━━━━\u001b[0m\u001b[37m\u001b[0m \u001b[1m5s\u001b[0m 90ms/step - accuracy: 0.2563 - loss: 1.8766 - val_accuracy: 0.2766 - val_loss: 1.7976 - learning_rate: 0.0010\n",
      "Epoch 4/50\n",
      "\u001b[1m54/54\u001b[0m \u001b[32m━━━━━━━━━━━━━━━━━━━━\u001b[0m\u001b[37m\u001b[0m \u001b[1m5s\u001b[0m 96ms/step - accuracy: 0.2750 - loss: 1.8353 - val_accuracy: 0.3287 - val_loss: 1.7647 - learning_rate: 0.0010\n",
      "Epoch 5/50\n",
      "\u001b[1m54/54\u001b[0m \u001b[32m━━━━━━━━━━━━━━━━━━━━\u001b[0m\u001b[37m\u001b[0m \u001b[1m5s\u001b[0m 83ms/step - accuracy: 0.2959 - loss: 1.7680 - val_accuracy: 0.3113 - val_loss: 1.7634 - learning_rate: 0.0010\n",
      "Epoch 6/50\n",
      "\u001b[1m54/54\u001b[0m \u001b[32m━━━━━━━━━━━━━━━━━━━━\u001b[0m\u001b[37m\u001b[0m \u001b[1m4s\u001b[0m 81ms/step - accuracy: 0.3001 - loss: 1.7695 - val_accuracy: 0.3507 - val_loss: 1.6780 - learning_rate: 0.0010\n",
      "Epoch 7/50\n",
      "\u001b[1m54/54\u001b[0m \u001b[32m━━━━━━━━━━━━━━━━━━━━\u001b[0m\u001b[37m\u001b[0m \u001b[1m4s\u001b[0m 79ms/step - accuracy: 0.3391 - loss: 1.6944 - val_accuracy: 0.3287 - val_loss: 1.6774 - learning_rate: 0.0010\n",
      "Epoch 8/50\n",
      "\u001b[1m54/54\u001b[0m \u001b[32m━━━━━━━━━━━━━━━━━━━━\u001b[0m\u001b[37m\u001b[0m \u001b[1m4s\u001b[0m 80ms/step - accuracy: 0.3228 - loss: 1.6910 - val_accuracy: 0.3403 - val_loss: 1.6339 - learning_rate: 0.0010\n",
      "Epoch 9/50\n",
      "\u001b[1m54/54\u001b[0m \u001b[32m━━━━━━━━━━━━━━━━━━━━\u001b[0m\u001b[37m\u001b[0m \u001b[1m5s\u001b[0m 83ms/step - accuracy: 0.3752 - loss: 1.6309 - val_accuracy: 0.3322 - val_loss: 1.6751 - learning_rate: 0.0010\n",
      "Epoch 10/50\n",
      "\u001b[1m54/54\u001b[0m \u001b[32m━━━━━━━━━━━━━━━━━━━━\u001b[0m\u001b[37m\u001b[0m \u001b[1m4s\u001b[0m 82ms/step - accuracy: 0.3657 - loss: 1.6146 - val_accuracy: 0.3692 - val_loss: 1.5739 - learning_rate: 0.0010\n",
      "Epoch 11/50\n",
      "\u001b[1m54/54\u001b[0m \u001b[32m━━━━━━━━━━━━━━━━━━━━\u001b[0m\u001b[37m\u001b[0m \u001b[1m4s\u001b[0m 82ms/step - accuracy: 0.3936 - loss: 1.5565 - val_accuracy: 0.3750 - val_loss: 1.5623 - learning_rate: 0.0010\n",
      "Epoch 12/50\n",
      "\u001b[1m54/54\u001b[0m \u001b[32m━━━━━━━━━━━━━━━━━━━━\u001b[0m\u001b[37m\u001b[0m \u001b[1m4s\u001b[0m 79ms/step - accuracy: 0.3948 - loss: 1.5359 - val_accuracy: 0.3924 - val_loss: 1.5732 - learning_rate: 0.0010\n",
      "Epoch 13/50\n",
      "\u001b[1m54/54\u001b[0m \u001b[32m━━━━━━━━━━━━━━━━━━━━\u001b[0m\u001b[37m\u001b[0m \u001b[1m4s\u001b[0m 82ms/step - accuracy: 0.4217 - loss: 1.4993 - val_accuracy: 0.3715 - val_loss: 1.5725 - learning_rate: 0.0010\n",
      "Epoch 14/50\n",
      "\u001b[1m54/54\u001b[0m \u001b[32m━━━━━━━━━━━━━━━━━━━━\u001b[0m\u001b[37m\u001b[0m \u001b[1m4s\u001b[0m 81ms/step - accuracy: 0.4290 - loss: 1.4795 - val_accuracy: 0.3900 - val_loss: 1.5462 - learning_rate: 0.0010\n",
      "Epoch 15/50\n",
      "\u001b[1m54/54\u001b[0m \u001b[32m━━━━━━━━━━━━━━━━━━━━\u001b[0m\u001b[37m\u001b[0m \u001b[1m5s\u001b[0m 98ms/step - accuracy: 0.4299 - loss: 1.4571 - val_accuracy: 0.3900 - val_loss: 1.5823 - learning_rate: 0.0010\n",
      "Epoch 16/50\n",
      "\u001b[1m54/54\u001b[0m \u001b[32m━━━━━━━━━━━━━━━━━━━━\u001b[0m\u001b[37m\u001b[0m \u001b[1m5s\u001b[0m 90ms/step - accuracy: 0.4398 - loss: 1.4640 - val_accuracy: 0.4062 - val_loss: 1.4972 - learning_rate: 0.0010\n",
      "Epoch 17/50\n",
      "\u001b[1m54/54\u001b[0m \u001b[32m━━━━━━━━━━━━━━━━━━━━\u001b[0m\u001b[37m\u001b[0m \u001b[1m5s\u001b[0m 87ms/step - accuracy: 0.4714 - loss: 1.3584 - val_accuracy: 0.4178 - val_loss: 1.5140 - learning_rate: 0.0010\n",
      "Epoch 18/50\n",
      "\u001b[1m54/54\u001b[0m \u001b[32m━━━━━━━━━━━━━━━━━━━━\u001b[0m\u001b[37m\u001b[0m \u001b[1m5s\u001b[0m 89ms/step - accuracy: 0.4757 - loss: 1.3521 - val_accuracy: 0.4155 - val_loss: 1.4942 - learning_rate: 0.0010\n",
      "Epoch 19/50\n",
      "\u001b[1m54/54\u001b[0m \u001b[32m━━━━━━━━━━━━━━━━━━━━\u001b[0m\u001b[37m\u001b[0m \u001b[1m5s\u001b[0m 88ms/step - accuracy: 0.4720 - loss: 1.3559 - val_accuracy: 0.4248 - val_loss: 1.4505 - learning_rate: 0.0010\n",
      "Epoch 20/50\n",
      "\u001b[1m54/54\u001b[0m \u001b[32m━━━━━━━━━━━━━━━━━━━━\u001b[0m\u001b[37m\u001b[0m \u001b[1m5s\u001b[0m 89ms/step - accuracy: 0.5059 - loss: 1.2855 - val_accuracy: 0.4259 - val_loss: 1.4754 - learning_rate: 0.0010\n",
      "Epoch 21/50\n",
      "\u001b[1m54/54\u001b[0m \u001b[32m━━━━━━━━━━━━━━━━━━━━\u001b[0m\u001b[37m\u001b[0m \u001b[1m5s\u001b[0m 87ms/step - accuracy: 0.5245 - loss: 1.2701 - val_accuracy: 0.4583 - val_loss: 1.4527 - learning_rate: 0.0010\n",
      "Epoch 22/50\n",
      "\u001b[1m54/54\u001b[0m \u001b[32m━━━━━━━━━━━━━━━━━━━━\u001b[0m\u001b[37m\u001b[0m \u001b[1m5s\u001b[0m 88ms/step - accuracy: 0.5436 - loss: 1.2094 - val_accuracy: 0.4421 - val_loss: 1.4206 - learning_rate: 0.0010\n",
      "Epoch 23/50\n",
      "\u001b[1m54/54\u001b[0m \u001b[32m━━━━━━━━━━━━━━━━━━━━\u001b[0m\u001b[37m\u001b[0m \u001b[1m5s\u001b[0m 95ms/step - accuracy: 0.5375 - loss: 1.2062 - val_accuracy: 0.4664 - val_loss: 1.4260 - learning_rate: 0.0010\n",
      "Epoch 24/50\n",
      "\u001b[1m54/54\u001b[0m \u001b[32m━━━━━━━━━━━━━━━━━━━━\u001b[0m\u001b[37m\u001b[0m \u001b[1m5s\u001b[0m 84ms/step - accuracy: 0.5533 - loss: 1.1615 - val_accuracy: 0.4375 - val_loss: 1.4696 - learning_rate: 0.0010\n",
      "Epoch 25/50\n",
      "\u001b[1m54/54\u001b[0m \u001b[32m━━━━━━━━━━━━━━━━━━━━\u001b[0m\u001b[37m\u001b[0m \u001b[1m5s\u001b[0m 86ms/step - accuracy: 0.5524 - loss: 1.1535 - val_accuracy: 0.4745 - val_loss: 1.3877 - learning_rate: 0.0010\n",
      "Epoch 26/50\n",
      "\u001b[1m54/54\u001b[0m \u001b[32m━━━━━━━━━━━━━━━━━━━━\u001b[0m\u001b[37m\u001b[0m \u001b[1m5s\u001b[0m 84ms/step - accuracy: 0.5594 - loss: 1.1390 - val_accuracy: 0.5058 - val_loss: 1.3876 - learning_rate: 0.0010\n",
      "Epoch 27/50\n",
      "\u001b[1m54/54\u001b[0m \u001b[32m━━━━━━━━━━━━━━━━━━━━\u001b[0m\u001b[37m\u001b[0m \u001b[1m5s\u001b[0m 87ms/step - accuracy: 0.5889 - loss: 1.0638 - val_accuracy: 0.4942 - val_loss: 1.3507 - learning_rate: 0.0010\n",
      "Epoch 28/50\n",
      "\u001b[1m54/54\u001b[0m \u001b[32m━━━━━━━━━━━━━━━━━━━━\u001b[0m\u001b[37m\u001b[0m \u001b[1m5s\u001b[0m 93ms/step - accuracy: 0.5890 - loss: 1.0761 - val_accuracy: 0.4931 - val_loss: 1.3950 - learning_rate: 0.0010\n",
      "Epoch 29/50\n",
      "\u001b[1m54/54\u001b[0m \u001b[32m━━━━━━━━━━━━━━━━━━━━\u001b[0m\u001b[37m\u001b[0m \u001b[1m5s\u001b[0m 97ms/step - accuracy: 0.6227 - loss: 1.0055 - val_accuracy: 0.5185 - val_loss: 1.3438 - learning_rate: 0.0010\n",
      "Epoch 30/50\n",
      "\u001b[1m54/54\u001b[0m \u001b[32m━━━━━━━━━━━━━━━━━━━━\u001b[0m\u001b[37m\u001b[0m \u001b[1m6s\u001b[0m 106ms/step - accuracy: 0.6116 - loss: 1.0078 - val_accuracy: 0.5255 - val_loss: 1.3075 - learning_rate: 0.0010\n",
      "Epoch 31/50\n",
      "\u001b[1m54/54\u001b[0m \u001b[32m━━━━━━━━━━━━━━━━━━━━\u001b[0m\u001b[37m\u001b[0m \u001b[1m6s\u001b[0m 104ms/step - accuracy: 0.6325 - loss: 0.9653 - val_accuracy: 0.5116 - val_loss: 1.4099 - learning_rate: 0.0010\n",
      "Epoch 32/50\n",
      "\u001b[1m54/54\u001b[0m \u001b[32m━━━━━━━━━━━━━━━━━━━━\u001b[0m\u001b[37m\u001b[0m \u001b[1m7s\u001b[0m 125ms/step - accuracy: 0.6531 - loss: 0.9221 - val_accuracy: 0.5370 - val_loss: 1.3934 - learning_rate: 0.0010\n",
      "Epoch 33/50\n",
      "\u001b[1m54/54\u001b[0m \u001b[32m━━━━━━━━━━━━━━━━━━━━\u001b[0m\u001b[37m\u001b[0m \u001b[1m6s\u001b[0m 111ms/step - accuracy: 0.6536 - loss: 0.9156 - val_accuracy: 0.5266 - val_loss: 1.3044 - learning_rate: 0.0010\n",
      "Epoch 34/50\n",
      "\u001b[1m54/54\u001b[0m \u001b[32m━━━━━━━━━━━━━━━━━━━━\u001b[0m\u001b[37m\u001b[0m \u001b[1m5s\u001b[0m 99ms/step - accuracy: 0.6568 - loss: 0.8974 - val_accuracy: 0.5104 - val_loss: 1.4493 - learning_rate: 0.0010\n",
      "Epoch 35/50\n",
      "\u001b[1m54/54\u001b[0m \u001b[32m━━━━━━━━━━━━━━━━━━━━\u001b[0m\u001b[37m\u001b[0m \u001b[1m5s\u001b[0m 98ms/step - accuracy: 0.6592 - loss: 0.8938 - val_accuracy: 0.5567 - val_loss: 1.3264 - learning_rate: 0.0010\n",
      "Epoch 36/50\n",
      "\u001b[1m54/54\u001b[0m \u001b[32m━━━━━━━━━━━━━━━━━━━━\u001b[0m\u001b[37m\u001b[0m \u001b[1m5s\u001b[0m 98ms/step - accuracy: 0.6646 - loss: 0.8922 - val_accuracy: 0.5451 - val_loss: 1.3994 - learning_rate: 0.0010\n",
      "Epoch 37/50\n",
      "\u001b[1m54/54\u001b[0m \u001b[32m━━━━━━━━━━━━━━━━━━━━\u001b[0m\u001b[37m\u001b[0m \u001b[1m6s\u001b[0m 119ms/step - accuracy: 0.6905 - loss: 0.8080 - val_accuracy: 0.5556 - val_loss: 1.3447 - learning_rate: 0.0010\n",
      "Epoch 38/50\n",
      "\u001b[1m54/54\u001b[0m \u001b[32m━━━━━━━━━━━━━━━━━━━━\u001b[0m\u001b[37m\u001b[0m \u001b[1m7s\u001b[0m 127ms/step - accuracy: 0.6948 - loss: 0.7842 - val_accuracy: 0.5417 - val_loss: 1.3898 - learning_rate: 0.0010\n",
      "Epoch 39/50\n",
      "\u001b[1m54/54\u001b[0m \u001b[32m━━━━━━━━━━━━━━━━━━━━\u001b[0m\u001b[37m\u001b[0m \u001b[1m6s\u001b[0m 110ms/step - accuracy: 0.7168 - loss: 0.7544 - val_accuracy: 0.5567 - val_loss: 1.3728 - learning_rate: 0.0010\n",
      "Epoch 40/50\n",
      "\u001b[1m54/54\u001b[0m \u001b[32m━━━━━━━━━━━━━━━━━━━━\u001b[0m\u001b[37m\u001b[0m \u001b[1m5s\u001b[0m 87ms/step - accuracy: 0.7119 - loss: 0.7728 - val_accuracy: 0.5868 - val_loss: 1.3461 - learning_rate: 0.0010\n",
      "Epoch 41/50\n",
      "\u001b[1m54/54\u001b[0m \u001b[32m━━━━━━━━━━━━━━━━━━━━\u001b[0m\u001b[37m\u001b[0m \u001b[1m5s\u001b[0m 87ms/step - accuracy: 0.7251 - loss: 0.7365 - val_accuracy: 0.5752 - val_loss: 1.3562 - learning_rate: 0.0010\n",
      "Epoch 42/50\n",
      "\u001b[1m54/54\u001b[0m \u001b[32m━━━━━━━━━━━━━━━━━━━━\u001b[0m\u001b[37m\u001b[0m \u001b[1m5s\u001b[0m 88ms/step - accuracy: 0.7068 - loss: 0.7566 - val_accuracy: 0.5671 - val_loss: 1.3790 - learning_rate: 0.0010\n",
      "Epoch 43/50\n",
      "\u001b[1m54/54\u001b[0m \u001b[32m━━━━━━━━━━━━━━━━━━━━\u001b[0m\u001b[37m\u001b[0m \u001b[1m5s\u001b[0m 92ms/step - accuracy: 0.7457 - loss: 0.6635 - val_accuracy: 0.5833 - val_loss: 1.3868 - learning_rate: 0.0010\n",
      "Epoch 44/50\n",
      "\u001b[1m54/54\u001b[0m \u001b[32m━━━━━━━━━━━━━━━━━━━━\u001b[0m\u001b[37m\u001b[0m \u001b[1m5s\u001b[0m 91ms/step - accuracy: 0.7408 - loss: 0.6969 - val_accuracy: 0.5428 - val_loss: 1.4376 - learning_rate: 0.0010\n",
      "Epoch 45/50\n",
      "\u001b[1m54/54\u001b[0m \u001b[32m━━━━━━━━━━━━━━━━━━━━\u001b[0m\u001b[37m\u001b[0m \u001b[1m5s\u001b[0m 88ms/step - accuracy: 0.7405 - loss: 0.7058 - val_accuracy: 0.5856 - val_loss: 1.3736 - learning_rate: 0.0010\n",
      "Epoch 46/50\n",
      "\u001b[1m54/54\u001b[0m \u001b[32m━━━━━━━━━━━━━━━━━━━━\u001b[0m\u001b[37m\u001b[0m \u001b[1m5s\u001b[0m 84ms/step - accuracy: 0.7613 - loss: 0.6424 - val_accuracy: 0.5914 - val_loss: 1.3767 - learning_rate: 0.0010\n",
      "Epoch 47/50\n",
      "\u001b[1m54/54\u001b[0m \u001b[32m━━━━━━━━━━━━━━━━━━━━\u001b[0m\u001b[37m\u001b[0m \u001b[1m5s\u001b[0m 89ms/step - accuracy: 0.7839 - loss: 0.5933 - val_accuracy: 0.5799 - val_loss: 1.4233 - learning_rate: 0.0010\n",
      "Epoch 48/50\n",
      "\u001b[1m54/54\u001b[0m \u001b[32m━━━━━━━━━━━━━━━━━━━━\u001b[0m\u001b[37m\u001b[0m \u001b[1m5s\u001b[0m 89ms/step - accuracy: 0.7918 - loss: 0.5787 - val_accuracy: 0.5914 - val_loss: 1.4735 - learning_rate: 0.0010\n",
      "Epoch 49/50\n",
      "\u001b[1m54/54\u001b[0m \u001b[32m━━━━━━━━━━━━━━━━━━━━\u001b[0m\u001b[37m\u001b[0m \u001b[1m5s\u001b[0m 88ms/step - accuracy: 0.7860 - loss: 0.5815 - val_accuracy: 0.6053 - val_loss: 1.4279 - learning_rate: 0.0010\n",
      "Epoch 50/50\n",
      "\u001b[1m54/54\u001b[0m \u001b[32m━━━━━━━━━━━━━━━━━━━━\u001b[0m\u001b[37m\u001b[0m \u001b[1m5s\u001b[0m 95ms/step - accuracy: 0.7899 - loss: 0.5747 - val_accuracy: 0.5880 - val_loss: 1.4936 - learning_rate: 0.0010\n"
     ]
    }
   ],
   "source": [
    "rlrp = ReduceLROnPlateau(\n",
    "    monitor='loss',\n",
    "    factor=0.4,\n",
    "    patience=2,\n",
    "    min_lr=1e-7\n",
    ")\n",
    "\n",
    "# 2. Treinando o modelo\n",
    "history = model.fit(\n",
    "    X_train, Y_train,\n",
    "    batch_size=64,\n",
    "    epochs=50,\n",
    "    validation_data=(X_test, Y_test),\n",
    "    callbacks=[rlrp]\n",
    ")"
   ]
  },
  {
   "cell_type": "markdown",
   "metadata": {},
   "source": [
    "### 3.2. Avaliar e Visualizar a Performance do Modelo\n",
    "\n",
    "##### Passo 1: Avaliando o Modelo\n",
    "- **Precisão nos Dados de Teste**:\n",
    "  - Use `model.evaluate(x_test, y_test)` para calcular a precisão do modelo no conjunto de teste.\n",
    "\n",
    "##### Passo 2: Preparando os Gráficos\n",
    "- **Definindo Épocas**:\n",
    "  - Crie uma lista de épocas para o eixo x\n",
    "- **Configurando o Layout do Gráfico**:\n",
    "  - Use `fig, ax = plt.subplots(1, 2)` para criar dois gráficos lado a lado.\n",
    "\n",
    "##### Passo 3: Plotando a Perda\n",
    "- **Gráfico de Perda**:\n",
    "  - Plote a perda de treino e teste:\n",
    "    ```python\n",
    "    ax[0].plot(epochs, train_loss, label='Training Loss')\n",
    "    ax[0].plot(epochs, test_loss, label='Testing Loss')\n",
    "    ```\n",
    "\n",
    "##### Passo 4: Plotando a Precisão\n",
    "- **Gráfico de Precisão**:\n",
    "  - Plote a precisão de treino e teste:\n",
    "    ```python\n",
    "    ax[1].plot(epochs, train_acc, label='Training Accuracy')\n",
    "    ax[1].plot(epochs, test_acc, label='Testing Accuracy')\n",
    "    ```\n",
    "\n",
    "##### Objetivos:\n",
    "  - **Perda**: Ajuda a identificar se o modelo está treinando bem ou se há overfitting.\n",
    "  - **Precisão**: Mostra o quão eficaz é o treinamento do modelo em acertar as previsões.\n"
   ]
  },
  {
   "cell_type": "code",
   "execution_count": null,
   "metadata": {},
   "outputs": [
    {
     "name": "stdout",
     "output_type": "stream",
     "text": [
      "\u001b[1m27/27\u001b[0m \u001b[32m━━━━━━━━━━━━━━━━━━━━\u001b[0m\u001b[37m\u001b[0m \u001b[1m0s\u001b[0m 13ms/step - accuracy: 0.5769 - loss: 1.5799\n",
      "Test Loss: 1.4936\n",
      "Test Accuracy: 58.7963%\n"
     ]
    },
    {
     "data": {
      "image/png": "[encoded data removed]",
      "text/plain": [
       "<Figure size 1400x500 with 2 Axes>"
      ]
     },
     "metadata": {},
     "output_type": "display_data"
    },
    {
     "name": "stdout",
     "output_type": "stream",
     "text": [
      "\u001b[1m27/27\u001b[0m \u001b[32m━━━━━━━━━━━━━━━━━━━━\u001b[0m\u001b[37m\u001b[0m \u001b[1m0s\u001b[0m 12ms/step\n"
     ]
    },
    {
     "data": {
      "text/html": [
       "<div>\n",
       "<style scoped>\n",
       "    .dataframe tbody tr th:only-of-type {\n",
       "        vertical-align: middle;\n",
       "    }\n",
       "\n",
       "    .dataframe tbody tr th {\n",
       "        vertical-align: top;\n",
       "    }\n",
       "\n",
       "    .dataframe thead th {\n",
       "        text-align: right;\n",
       "    }\n",
       "</style>\n",
       "<table border=\"1\" class=\"dataframe\">\n",
       "  <thead>\n",
       "    <tr style=\"text-align: right;\">\n",
       "      <th></th>\n",
       "      <th>Predicted Labels</th>\n",
       "      <th>Actual Labels</th>\n",
       "    </tr>\n",
       "  </thead>\n",
       "  <tbody>\n",
       "    <tr>\n",
       "      <th>0</th>\n",
       "      <td>angry</td>\n",
       "      <td>angry</td>\n",
       "    </tr>\n",
       "    <tr>\n",
       "      <th>1</th>\n",
       "      <td>fear</td>\n",
       "      <td>fear</td>\n",
       "    </tr>\n",
       "    <tr>\n",
       "      <th>2</th>\n",
       "      <td>disgust</td>\n",
       "      <td>disgust</td>\n",
       "    </tr>\n",
       "    <tr>\n",
       "      <th>3</th>\n",
       "      <td>sad</td>\n",
       "      <td>sad</td>\n",
       "    </tr>\n",
       "    <tr>\n",
       "      <th>4</th>\n",
       "      <td>disgust</td>\n",
       "      <td>surprise</td>\n",
       "    </tr>\n",
       "    <tr>\n",
       "      <th>5</th>\n",
       "      <td>surprise</td>\n",
       "      <td>surprise</td>\n",
       "    </tr>\n",
       "    <tr>\n",
       "      <th>6</th>\n",
       "      <td>happy</td>\n",
       "      <td>disgust</td>\n",
       "    </tr>\n",
       "    <tr>\n",
       "      <th>7</th>\n",
       "      <td>angry</td>\n",
       "      <td>angry</td>\n",
       "    </tr>\n",
       "    <tr>\n",
       "      <th>8</th>\n",
       "      <td>calm</td>\n",
       "      <td>neutral</td>\n",
       "    </tr>\n",
       "    <tr>\n",
       "      <th>9</th>\n",
       "      <td>neutral</td>\n",
       "      <td>sad</td>\n",
       "    </tr>\n",
       "  </tbody>\n",
       "</table>\n",
       "</div>"
      ],
      "text/plain": [
       "  Predicted Labels Actual Labels\n",
       "0            angry         angry\n",
       "1             fear          fear\n",
       "2          disgust       disgust\n",
       "3              sad           sad\n",
       "4          disgust      surprise\n",
       "5         surprise      surprise\n",
       "6            happy       disgust\n",
       "7            angry         angry\n",
       "8             calm       neutral\n",
       "9          neutral           sad"
      ]
     },
     "execution_count": 48,
     "metadata": {},
     "output_type": "execute_result"
    }
   ],
   "source": [
    "test_loss, test_acc = model.evaluate(X_test, Y_test)\n",
    "\n",
    "print(f\"Test Loss: {test_loss:.4f}\")\n",
    "print(f\"Test Accuracy: {test_acc * 100:.4f}%\")\n",
    "epochs = list(range(1, len(history.history['loss']) + 1))\n",
    "train_loss = history.history['loss']\n",
    "val_loss = history.history['val_loss']\n",
    "train_acc = history.history['accuracy']\n",
    "val_acc = history.history['val_accuracy']\n",
    "fig, ax = plt.subplots(1, 2, figsize=(14, 5))\n",
    "\n",
    "ax[0].plot(epochs, train_loss, label='Training Loss', color='blue')\n",
    "ax[0].plot(epochs, val_loss, label='Validation Loss', color='orange')\n",
    "ax[0].set_title('Loss Over Epochs')\n",
    "ax[0].set_xlabel('Epochs')\n",
    "ax[0].set_ylabel('Loss')\n",
    "ax[0].legend()\n",
    "ax[0].grid(True)\n",
    "ax[1].plot(epochs, train_acc, label='Training Accuracy', color='green')\n",
    "ax[1].plot(epochs, val_acc, label='Validation Accuracy', color='red')\n",
    "ax[1].set_title('Accuracy Over Epochs')\n",
    "ax[1].set_xlabel('Epochs')\n",
    "ax[1].set_ylabel('Accuracy')\n",
    "ax[1].legend()\n",
    "ax[1].grid(True)\n",
    "\n",
    "plt.tight_layout()\n",
    "plt.show()\n",
    "\n",
    "pred_test = model.predict(X_test)\n",
    "y_pred = encoder.inverse_transform(pred_test)\n",
    "y_true = encoder.inverse_transform(Y_test)\n",
    "df = pd.DataFrame({\n",
    "    'Predicted Labels': y_pred.flatten(),\n",
    "    'Actual Labels': y_true.flatten()\n",
    "})\n",
    "df.head(10)"
   ]
  },
  {
   "cell_type": "markdown",
   "metadata": {},
   "source": [
    "### 3.3. Chegou a parte boa! vamos prever os valores nos dados de teste\n",
    "- Passo 1: Use model.predict() no x_test e salve o resultado em pred_test.\n",
    "- Passo 2: Crie y_pred a partir de pred_test usando inverse_transform do encoder (Precisamos converter as previsões codificadas do One-Hot de volta aos rótulos originais)\n",
    "- Passo 3: Faça o mesmo para os rótulos de teste (y_test), decodificando-os de volta aos rótulos originais."
   ]
  },
  {
   "cell_type": "code",
   "execution_count": 50,
   "metadata": {},
   "outputs": [
    {
     "name": "stdout",
     "output_type": "stream",
     "text": [
      "\u001b[1m27/27\u001b[0m \u001b[32m━━━━━━━━━━━━━━━━━━━━\u001b[0m\u001b[37m\u001b[0m \u001b[1m0s\u001b[0m 13ms/step\n",
      "Exemplos de previsões vs. rótulos reais:\n",
      "Previsto: angry | Real: angry\n",
      "Previsto: fear | Real: fear\n",
      "Previsto: disgust | Real: disgust\n",
      "Previsto: sad | Real: sad\n",
      "Previsto: disgust | Real: surprise\n"
     ]
    }
   ],
   "source": [
    "pred_test = model.predict(X_test)\n",
    "y_pred = encoder.inverse_transform(pred_test)\n",
    "y_true = encoder.inverse_transform(Y_test)\n",
    "print(\"Exemplos de previsões vs. rótulos reais:\")\n",
    "for i in range(5):\n",
    "    print(f\"Previsto: {y_pred[i][0]} | Real: {y_true[i][0]}\")"
   ]
  },
  {
   "cell_type": "code",
   "execution_count": 52,
   "metadata": {},
   "outputs": [
    {
     "data": {
      "text/html": [
       "<div>\n",
       "<style scoped>\n",
       "    .dataframe tbody tr th:only-of-type {\n",
       "        vertical-align: middle;\n",
       "    }\n",
       "\n",
       "    .dataframe tbody tr th {\n",
       "        vertical-align: top;\n",
       "    }\n",
       "\n",
       "    .dataframe thead th {\n",
       "        text-align: right;\n",
       "    }\n",
       "</style>\n",
       "<table border=\"1\" class=\"dataframe\">\n",
       "  <thead>\n",
       "    <tr style=\"text-align: right;\">\n",
       "      <th></th>\n",
       "      <th>Predicted Labels</th>\n",
       "      <th>Actual Labels</th>\n",
       "    </tr>\n",
       "  </thead>\n",
       "  <tbody>\n",
       "    <tr>\n",
       "      <th>0</th>\n",
       "      <td>angry</td>\n",
       "      <td>angry</td>\n",
       "    </tr>\n",
       "    <tr>\n",
       "      <th>1</th>\n",
       "      <td>fear</td>\n",
       "      <td>fear</td>\n",
       "    </tr>\n",
       "    <tr>\n",
       "      <th>2</th>\n",
       "      <td>disgust</td>\n",
       "      <td>disgust</td>\n",
       "    </tr>\n",
       "    <tr>\n",
       "      <th>3</th>\n",
       "      <td>sad</td>\n",
       "      <td>sad</td>\n",
       "    </tr>\n",
       "    <tr>\n",
       "      <th>4</th>\n",
       "      <td>disgust</td>\n",
       "      <td>surprise</td>\n",
       "    </tr>\n",
       "    <tr>\n",
       "      <th>5</th>\n",
       "      <td>surprise</td>\n",
       "      <td>surprise</td>\n",
       "    </tr>\n",
       "    <tr>\n",
       "      <th>6</th>\n",
       "      <td>happy</td>\n",
       "      <td>disgust</td>\n",
       "    </tr>\n",
       "    <tr>\n",
       "      <th>7</th>\n",
       "      <td>angry</td>\n",
       "      <td>angry</td>\n",
       "    </tr>\n",
       "    <tr>\n",
       "      <th>8</th>\n",
       "      <td>calm</td>\n",
       "      <td>neutral</td>\n",
       "    </tr>\n",
       "    <tr>\n",
       "      <th>9</th>\n",
       "      <td>neutral</td>\n",
       "      <td>sad</td>\n",
       "    </tr>\n",
       "  </tbody>\n",
       "</table>\n",
       "</div>"
      ],
      "text/plain": [
       "  Predicted Labels Actual Labels\n",
       "0            angry         angry\n",
       "1             fear          fear\n",
       "2          disgust       disgust\n",
       "3              sad           sad\n",
       "4          disgust      surprise\n",
       "5         surprise      surprise\n",
       "6            happy       disgust\n",
       "7            angry         angry\n",
       "8             calm       neutral\n",
       "9          neutral           sad"
      ]
     },
     "execution_count": 52,
     "metadata": {},
     "output_type": "execute_result"
    }
   ],
   "source": [
    "y_true = encoder.inverse_transform(Y_test)\n",
    "\n",
    "df = pd.DataFrame({\n",
    "    'Predicted Labels': y_pred.flatten(),\n",
    "    'Actual Labels': y_true.flatten()\n",
    "})\n",
    "\n",
    "df.head(10)"
   ]
  },
  {
   "cell_type": "markdown",
   "metadata": {},
   "source": [
    "### 3.4. Plotar Matriz de Confusão\n",
    "- Agora tenho um desafio para você, eu quero que você crie uma matriz de confusão que relacione os resultados preditos com os valores reais das emoções!"
   ]
  },
  {
   "cell_type": "code",
   "execution_count": 53,
   "metadata": {},
   "outputs": [
    {
     "data": {
      "image/png": "[encoded data removed]",
      "text/plain": [
       "<Figure size 1000x800 with 2 Axes>"
      ]
     },
     "metadata": {},
     "output_type": "display_data"
    }
   ],
   "source": [
    "cm = confusion_matrix(y_true, y_pred)\n",
    "\n",
    "plt.figure(figsize=(10, 8))\n",
    "sns.heatmap(cm, annot=True, fmt='d', cmap='Blues',\n",
    "            xticklabels=encoder.categories_[0],\n",
    "            yticklabels=encoder.categories_[0])\n",
    "\n",
    "plt.title(\"Matriz de Confusão\")\n",
    "plt.xlabel(\"Rótulos Preditos\")\n",
    "plt.ylabel(\"Rótulos Reais\")\n",
    "plt.xticks(rotation=45)\n",
    "plt.yticks(rotation=45)\n",
    "plt.tight_layout()\n",
    "plt.show()"
   ]
  },
  {
   "cell_type": "markdown",
   "metadata": {},
   "source": [
    "### 3.4. Plotar Matriz de Confusão\n",
    "- Agora tenho um desafio para você, eu quero que você crie uma matriz de confusão que relacione os resultados preditos com os valores reais das emoções!"
   ]
  },
  {
   "cell_type": "code",
   "execution_count": null,
   "metadata": {},
   "outputs": [
    {
     "name": "stdout",
     "output_type": "stream",
     "text": [
      "Relatório de Classificação:\n",
      "\n",
      "              precision    recall  f1-score   support\n",
      "\n",
      "       angry       0.73      0.61      0.67       114\n",
      "        calm       0.60      0.82      0.69        99\n",
      "     disgust       0.60      0.57      0.58       128\n",
      "        fear       0.65      0.67      0.66       119\n",
      "       happy       0.54      0.60      0.57       111\n",
      "     neutral       0.26      0.40      0.32        58\n",
      "         sad       0.56      0.41      0.47       116\n",
      "    surprise       0.73      0.56      0.64       119\n",
      "\n",
      "    accuracy                           0.59       864\n",
      "   macro avg       0.58      0.58      0.57       864\n",
      "weighted avg       0.61      0.59      0.59       864\n",
      "\n"
     ]
    }
   ],
   "source": [
    "report = classification_report(y_true, y_pred, target_names=encoder.categories_[0])\n",
    "print(\"Relatório de Classificação:\\n\")\n",
    "print(report)"
   ]
  },
  {
   "cell_type": "markdown",
   "metadata": {},
   "source": [
    "### 4. Conclusão\n",
    "- Podemos ver que nosso modelo é mais preciso na predição das emoções surpresa e raiva, o que faz sentido, pois os arquivos de áudio dessas emoções diferem bastante dos outros em aspectos como tom, velocidade, etc.\n",
    "- No geral, alcançamos 62% de precisão nos dados de teste, o que é razoável, mas podemos melhorar ainda mais aplicando mais técnicas de aumento de dados e utilizando outros métodos de extração de features."
   ]
  },
  {
   "cell_type": "markdown",
   "metadata": {},
   "source": [
    "### 5. Salvando o Modelo e o Scaler"
   ]
  },
  {
   "cell_type": "markdown",
   "metadata": {},
   "source": [
    "##### Passo 1: Salvando o Modelo\n",
    "1. **Importação:** Use o `load_model` do Keras.\n",
    "2. **Diretório:** Crie um diretório chamado `models` se não existir.\n",
    "3. **Salvar:** Salve o modelo como no caminho especificado.\n",
    "\n",
    "##### Passo 2: Salvando o Scaler\n",
    "1. **Importação:** Use `joblib`.\n",
    "2. **Diretório:** Utilize o mesmo caminho `models`.\n",
    "3. **Salvar:** Salve o scaler."
   ]
  },
  {
   "cell_type": "code",
   "execution_count": 56,
   "metadata": {},
   "outputs": [
    {
     "name": "stderr",
     "output_type": "stream",
     "text": [
      "WARNING:absl:You are saving your model as an HDF5 file via `model.save()` or `keras.saving.save_model(model)`. This file format is considered legacy. We recommend using instead the native Keras format, e.g. `model.save('my_model.keras')` or `keras.saving.save_model(model, 'my_model.keras')`. \n"
     ]
    },
    {
     "name": "stdout",
     "output_type": "stream",
     "text": [
      "Modelo salvo em: d:\\nathan\\nathan1pCDIA\\PROJETO\\trilha\\miniprojeto2\\notebooks\\models\\emotion_recognition_model.h5\n"
     ]
    }
   ],
   "source": [
    "models_dir = os.path.join(os.getcwd(), \"models\")\n",
    "os.makedirs(models_dir, exist_ok=True)\n",
    "\n",
    "model_path = os.path.join(models_dir, \"emotion_recognition_model.h5\")\n",
    "model.save(model_path)\n",
    "print(f\"Modelo salvo em: {model_path}\")"
   ]
  },
  {
   "cell_type": "code",
   "execution_count": 58,
   "metadata": {},
   "outputs": [
    {
     "name": "stdout",
     "output_type": "stream",
     "text": [
      "Scaler salvo em: d:\\nathan\\nathan1pCDIA\\PROJETO\\trilha\\miniprojeto2\\notebooks\\models\\scaler.save\n"
     ]
    }
   ],
   "source": [
    "import joblib\n",
    "scaler_path = os.path.join(models_dir, \"scaler.save\")\n",
    "joblib.dump(scaler, scaler_path)\n",
    "print(f\"Scaler salvo em: {scaler_path}\")"
   ]
  }
 ],
 "metadata": {
  "kernelspec": {
   "display_name": "venv",
   "language": "python",
   "name": "python3"
  },
  "language_info": {
   "codemirror_mode": {
    "name": "ipython",
    "version": 3
   },
   "file_extension": ".py",
   "mimetype": "text/x-python",
   "name": "python",
   "nbconvert_exporter": "python",
   "pygments_lexer": "ipython3",
   "version": "3.10.11"
  }
 },
 "nbformat": 4,
 "nbformat_minor": 4
}
